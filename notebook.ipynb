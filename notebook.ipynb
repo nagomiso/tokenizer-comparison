{
 "cells": [
  {
   "cell_type": "markdown",
   "metadata": {},
   "source": [
    "# Speed comparison of Japanese tokenizers\n",
    "\n",
    "I referred to below page.\n",
    "\n",
    "[Python で分かち書き の速度比較 / janome, sudachi, ginza, mecab, fugashi, tinysegmenter - Qiita](https://qiita.com/kfjt/items/8b2f4a04e4befff18e19)"
   ]
  },
  {
   "cell_type": "code",
   "execution_count": 37,
   "metadata": {},
   "outputs": [],
   "source": [
    "import time\n",
    "from typing import List, Callable\n",
    "\n",
    "from janome.tokenizer import Tokenizer as JanomeTokenizer\n",
    "from MeCab import Tagger as MeCabTagger\n",
    "from sudachipy import dictionary as sudachi_dic\n",
    "\n",
    "import requests\n",
    "\n",
    "import pandas as pd\n",
    "import seaborn as sns"
   ]
  },
  {
   "cell_type": "code",
   "execution_count": 2,
   "metadata": {},
   "outputs": [],
   "source": [
    "NEKO_TEXT = (\n",
    "    requests\n",
    "    .get(\n",
    "        \"http://www.cl.ecei.tohoku.ac.jp/nlp100/data/neko.txt\"\n",
    "    )\n",
    "    .content\n",
    "    .decode()\n",
    ")"
   ]
  },
  {
   "cell_type": "code",
   "execution_count": 13,
   "metadata": {},
   "outputs": [],
   "source": [
    "mecab_tokenizer = MeCabTagger(\"-Owakati\")\n",
    "janome_tokenizer = JanomeTokenizer()\n",
    "sudachi_tokenizer = sudachi_dic.Dictionary().create()"
   ]
  },
  {
   "cell_type": "code",
   "execution_count": 17,
   "metadata": {},
   "outputs": [],
   "source": [
    "def mecab(text: str) -> List[str]:\n",
    "    ret: List[str] = mecab_tokenizer.parse(text).split()\n",
    "    return ret\n",
    "\n",
    "\n",
    "def janome(text: str) -> List[str]:\n",
    "    return [\n",
    "        token for token in janome_tokenizer.tokenize(text, wakati=True)\n",
    "    ]\n",
    "\n",
    "\n",
    "def sudachi(text: str) -> List[str]:\n",
    "    return [\n",
    "        token.surface() for token in sudachi_tokenizer.tokenize(text)\n",
    "    ]"
   ]
  },
  {
   "cell_type": "code",
   "execution_count": 19,
   "metadata": {},
   "outputs": [],
   "source": [
    "def elapsed_times(func: Callable, trial_times: int = 100) -> List[int]:\n",
    "    print(f\"start: {func}\")\n",
    "    ret: List[int] = []\n",
    "    ret_append = ret.append\n",
    "    for _ in range(trial_times):\n",
    "        start = time.perf_counter_ns()\n",
    "        func(NEKO_TEXT)\n",
    "        end = time.perf_counter_ns()\n",
    "        ret_append(end - start)\n",
    "    print(f\"end: {func}\")\n",
    "    return ret"
   ]
  },
  {
   "cell_type": "code",
   "execution_count": 21,
   "metadata": {},
   "outputs": [
    {
     "name": "stdout",
     "output_type": "stream",
     "text": [
      "start: <function mecab at 0x7fed1efed4c0>\n",
      "end: <function mecab at 0x7fed1efed4c0>\n",
      "start: <function janome at 0x7fed09fa91f0>\n",
      "end: <function janome at 0x7fed09fa91f0>\n",
      "start: <function sudachi at 0x7fed09fa9040>\n",
      "end: <function sudachi at 0x7fed09fa9040>\n"
     ]
    }
   ],
   "source": [
    "results = {\n",
    "    tokenizer_name: elapsed_times(globals()[tokenizer_name], trial_times=10)\n",
    "    for tokenizer_name in (\"mecab\", \"janome\", \"sudachi\")\n",
    "}"
   ]
  },
  {
   "cell_type": "code",
   "execution_count": 35,
   "metadata": {},
   "outputs": [],
   "source": [
    "df = pd.DataFrame.from_dict(results)\n",
    "data = df.melt(\n",
    "    value_name=\"elapsed time\",\n",
    "    var_name=\"tokenizer name\",\n",
    ")\n",
    "data[\"elapsed time [ms]\"] = data[\"elapsed time\"] / 1000 / 1000"
   ]
  },
  {
   "cell_type": "code",
   "execution_count": 36,
   "metadata": {},
   "outputs": [
    {
     "data": {
      "text/plain": "<AxesSubplot:xlabel='tokenizer name', ylabel='elapsed time [ms]'>"
     },
     "execution_count": 36,
     "metadata": {},
     "output_type": "execute_result"
    },
    {
     "data": {
      "image/png": "[encoded data removed]",
      "text/plain": "<Figure size 432x288 with 1 Axes>"
     },
     "metadata": {
      "needs_background": "light"
     },
     "output_type": "display_data"
    }
   ],
   "source": [
    "sns.boxplot(\n",
    "    data=data,\n",
    "    y=\"elapsed time [ms]\",\n",
    "    x=\"tokenizer name\",\n",
    ")"
   ]
  }
 ],
 "metadata": {
  "kernelspec": {
   "display_name": "Python 3.8.5  ('.venv': venv)",
   "name": "pythonjvsc74a57bd0e5bff3bc693793a5c1c1438be1eac84972813906bd1d0c1eb3fea840cc10b084"
  },
  "language_info": {
   "codemirror_mode": {
    "name": "ipython",
    "version": 3
   },
   "file_extension": ".py",
   "mimetype": "text/x-python",
   "name": "python",
   "nbconvert_exporter": "python",
   "pygments_lexer": "ipython3",
   "version": "3.8.5"
  },
  "metadata": {
   "interpreter": {
    "hash": "e5bff3bc693793a5c1c1438be1eac84972813906bd1d0c1eb3fea840cc10b084"
   }
  },
  "orig_nbformat": 2
 },
 "nbformat": 4,
 "nbformat_minor": 2
}