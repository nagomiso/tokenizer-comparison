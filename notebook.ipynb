{
 "cells": [
  {
   "cell_type": "markdown",
   "metadata": {},
   "source": [
    "# Speed comparison of Japanese tokenizers\n",
    "\n",
    "I referred to below page.\n",
    "\n",
    "[Python で分かち書き の速度比較 / janome, sudachi, ginza, mecab, fugashi, tinysegmenter - Qiita](https://qiita.com/kfjt/items/8b2f4a04e4befff18e19)"
   ]
  },
  {
   "cell_type": "code",
   "execution_count": 1,
   "metadata": {},
   "outputs": [],
   "source": [
    "import time\n",
    "import math\n",
    "from typing import Dict, List, Callable\n",
    "\n",
    "from janome.tokenizer import Tokenizer as JanomeTokenizer\n",
    "from MeCab import Tagger as MeCabTagger\n",
    "from sudachipy import dictionary as sudachi_dic\n",
    "\n",
    "import requests\n",
    "\n",
    "import pandas as pd\n",
    "import seaborn as sns"
   ]
  },
  {
   "cell_type": "code",
   "execution_count": 2,
   "metadata": {},
   "outputs": [],
   "source": [
    "NEKO_SENTENCES = (\n",
    "    requests\n",
    "    .get(\n",
    "        \"http://www.cl.ecei.tohoku.ac.jp/nlp100/data/neko.txt\"\n",
    "    )\n",
    "    .content\n",
    "    .decode()\n",
    "    .split()\n",
    ")\n",
    "NEKO_SENTENCES_NUM = len(NEKO_SENTENCES)"
   ]
  },
  {
   "cell_type": "code",
   "execution_count": 3,
   "metadata": {},
   "outputs": [],
   "source": [
    "mecab_tokenizer = MeCabTagger(\"-Owakati\")\n",
    "janome_tokenizer = JanomeTokenizer()\n",
    "sudachi_tokenizer = sudachi_dic.Dictionary().create()"
   ]
  },
  {
   "cell_type": "code",
   "execution_count": 4,
   "metadata": {},
   "outputs": [],
   "source": [
    "def mecab(text: str) -> List[str]:\n",
    "    ret: List[str] = mecab_tokenizer.parse(text).split()\n",
    "    return ret\n",
    "\n",
    "\n",
    "def janome(text: str) -> List[str]:\n",
    "    return [\n",
    "        token for token in janome_tokenizer.tokenize(text, wakati=True)\n",
    "    ]\n",
    "\n",
    "\n",
    "def sudachi(text: str) -> List[str]:\n",
    "    return [\n",
    "        token.surface() for token in sudachi_tokenizer.tokenize(text)\n",
    "    ]"
   ]
  },
  {
   "cell_type": "code",
   "execution_count": 7,
   "metadata": {},
   "outputs": [],
   "source": [
    "def elapsed_times(func: Callable, trial_times: int = 100) -> Dict[str, List[int]]:\n",
    "    ret = dict(text_length=[], elapsed_time=[])\n",
    "    for i in range(10):\n",
    "        sentence_num = math.ceil(NEKO_SENTENCES_NUM * float(i + 1)/10)\n",
    "        text = \"\".join(NEKO_SENTENCES[0:sentence_num])\n",
    "        text_length = len(text)\n",
    "        total_elapsed_time = 0\n",
    "        for _ in range(trial_times):\n",
    "            start = time.perf_counter_ns()\n",
    "            func(text)\n",
    "            end = time.perf_counter_ns()\n",
    "            elapsed_time = end - start\n",
    "            total_elapsed_time += elapsed_time\n",
    "            ret[\"text_length\"].append(text_length)\n",
    "            ret[\"elapsed_time\"].append(elapsed_time)\n",
    "        print(f\"{func}[{i}]: {total_elapsed_time/1000/1000:.1f}ms\")\n",
    "    return ret"
   ]
  },
  {
   "cell_type": "code",
   "execution_count": 8,
   "metadata": {},
   "outputs": [
    {
     "name": "stdout",
     "output_type": "stream",
     "text": [
      "<function mecab at 0x7f56a2a273a0>[0]: 357.4ms\n",
      "<function mecab at 0x7f56a2a273a0>[1]: 721.0ms\n",
      "<function mecab at 0x7f56a2a273a0>[2]: 1118.2ms\n",
      "<function mecab at 0x7f56a2a273a0>[3]: 1483.1ms\n",
      "<function mecab at 0x7f56a2a273a0>[4]: 1784.9ms\n",
      "<function mecab at 0x7f56a2a273a0>[5]: 2037.7ms\n",
      "<function mecab at 0x7f56a2a273a0>[6]: 2359.8ms\n",
      "<function mecab at 0x7f56a2a273a0>[7]: 2576.7ms\n",
      "<function mecab at 0x7f56a2a273a0>[8]: 2826.8ms\n",
      "<function mecab at 0x7f56a2a273a0>[9]: 2947.7ms\n",
      "<function janome at 0x7f56a2a275e0>[0]: 41173.7ms\n",
      "<function janome at 0x7f56a2a275e0>[1]: 74909.9ms\n",
      "<function janome at 0x7f56a2a275e0>[2]: 103682.3ms\n",
      "<function janome at 0x7f56a2a275e0>[3]: 121060.7ms\n",
      "<function janome at 0x7f56a2a275e0>[4]: 149541.5ms\n",
      "<function janome at 0x7f56a2a275e0>[5]: 172365.8ms\n",
      "<function janome at 0x7f56a2a275e0>[6]: 204309.7ms\n",
      "<function janome at 0x7f56a2a275e0>[7]: 233385.6ms\n",
      "<function janome at 0x7f56a2a275e0>[8]: 239928.1ms\n",
      "<function janome at 0x7f56a2a275e0>[9]: 262980.7ms\n",
      "<function sudachi at 0x7f56a2a27790>[0]: 22299.5ms\n",
      "<function sudachi at 0x7f56a2a27790>[1]: 52139.7ms\n",
      "<function sudachi at 0x7f56a2a27790>[2]: 80133.5ms\n",
      "<function sudachi at 0x7f56a2a27790>[3]: 126226.3ms\n",
      "<function sudachi at 0x7f56a2a27790>[4]: 183198.8ms\n",
      "<function sudachi at 0x7f56a2a27790>[5]: 212154.8ms\n",
      "<function sudachi at 0x7f56a2a27790>[6]: 274728.3ms\n",
      "<function sudachi at 0x7f56a2a27790>[7]: 436326.8ms\n",
      "<function sudachi at 0x7f56a2a27790>[8]: 471336.1ms\n",
      "<function sudachi at 0x7f56a2a27790>[9]: 519824.6ms\n"
     ]
    }
   ],
   "source": [
    "results = {\n",
    "    tokenizer_name: elapsed_times(globals()[tokenizer_name], trial_times=10)\n",
    "    for tokenizer_name in (\"mecab\", \"janome\", \"sudachi\")\n",
    "}"
   ]
  },
  {
   "cell_type": "code",
   "execution_count": 10,
   "metadata": {},
   "outputs": [],
   "source": [
    "buff = []\n",
    "for k, v in results.items():\n",
    "    df = pd.DataFrame.from_dict(v)\n",
    "    df[\"tokenizer name\"] = k\n",
    "    buff.append(df)"
   ]
  },
  {
   "cell_type": "code",
   "execution_count": 16,
   "metadata": {},
   "outputs": [],
   "source": [
    "data = pd.concat(buff, ignore_index=True)\n",
    "data = data.rename(\n",
    "    columns={\n",
    "        \"elapsed_time\": \"elapsed time\",\n",
    "        \"text_length\": \"text length\"\n",
    "    }\n",
    ")\n",
    "data[\"elapsed time [ms]\"] = data[\"elapsed time\"] / 1000 / 1000"
   ]
  },
  {
   "cell_type": "code",
   "execution_count": 17,
   "metadata": {},
   "outputs": [
    {
     "data": {
      "text/plain": "<AxesSubplot:xlabel='text length', ylabel='elapsed time [ms]'>"
     },
     "execution_count": 17,
     "metadata": {},
     "output_type": "execute_result"
    },
    {
     "data": {
      "image/png": "[encoded data removed]",
      "text/plain": "<Figure size 432x288 with 1 Axes>"
     },
     "metadata": {
      "needs_background": "light"
     },
     "output_type": "display_data"
    }
   ],
   "source": [
    "sns.lineplot(\n",
    "    data=data,\n",
    "    y=\"elapsed time [ms]\",\n",
    "    x=\"text length\",\n",
    "    hue=\"tokenizer name\",\n",
    ")"
   ]
  }
 ],
 "metadata": {
  "kernelspec": {
   "display_name": "Python 3.8.5  ('.venv': poetry)",
   "name": "pythonjvsc74a57bd0e5bff3bc693793a5c1c1438be1eac84972813906bd1d0c1eb3fea840cc10b084"
  },
  "language_info": {
   "codemirror_mode": {
    "name": "ipython",
    "version": 3
   },
   "file_extension": ".py",
   "mimetype": "text/x-python",
   "name": "python",
   "nbconvert_exporter": "python",
   "pygments_lexer": "ipython3",
   "version": "3.8.5"
  },
  "metadata": {
   "interpreter": {
    "hash": "e5bff3bc693793a5c1c1438be1eac84972813906bd1d0c1eb3fea840cc10b084"
   }
  },
  "orig_nbformat": 2
 },
 "nbformat": 4,
 "nbformat_minor": 2
}